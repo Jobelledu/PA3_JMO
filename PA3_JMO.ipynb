{
 "cells": [
  {
   "cell_type": "markdown",
   "id": "2c83fe94",
   "metadata": {},
   "source": [
    "## PA3_JMO, Justin Odle, FA 22"
   ]
  },
  {
   "cell_type": "code",
   "execution_count": 9,
   "id": "f076238b",
   "metadata": {},
   "outputs": [
    {
     "name": "stdout",
     "output_type": "stream",
     "text": [
      "['John', 'Sally', 'Sam', 'Brenda', 'Julie', 'Amanda']\n"
     ]
    }
   ],
   "source": [
    "names= ['John', 'Sally', 'Sam', 'Brenda', 'Julie', 'Amanda']\n",
    "print(names)"
   ]
  },
  {
   "cell_type": "markdown",
   "id": "add3230d",
   "metadata": {},
   "source": [
    "# Append can be used to add an item to the end of a list."
   ]
  },
  {
   "cell_type": "code",
   "execution_count": 10,
   "id": "5aeaf798",
   "metadata": {},
   "outputs": [
    {
     "name": "stdout",
     "output_type": "stream",
     "text": [
      "['John', 'Sally', 'Sam', 'Brenda', 'Julie', 'Amanda', 'Mason']\n"
     ]
    }
   ],
   "source": [
    "names.append('Mason')\n",
    "print(names)"
   ]
  },
  {
   "cell_type": "markdown",
   "id": "7348e0fe",
   "metadata": {},
   "source": [
    "# Extend can also be used to add multiple items to a list."
   ]
  },
  {
   "cell_type": "code",
   "execution_count": 11,
   "id": "d2df66ef",
   "metadata": {},
   "outputs": [
    {
     "name": "stdout",
     "output_type": "stream",
     "text": [
      "['Ralph', 'Bob']\n"
     ]
    }
   ],
   "source": [
    "names2= ['Ralph', 'Bob']\n",
    "print(names2)"
   ]
  },
  {
   "cell_type": "code",
   "execution_count": 12,
   "id": "f877384e",
   "metadata": {},
   "outputs": [
    {
     "name": "stdout",
     "output_type": "stream",
     "text": [
      "['John', 'Sally', 'Sam', 'Brenda', 'Julie', 'Amanda', 'Mason', 'Ralph', 'Bob']\n"
     ]
    }
   ],
   "source": [
    "names.extend(names2)\n",
    "print(names)"
   ]
  },
  {
   "cell_type": "markdown",
   "id": "b077cb04",
   "metadata": {},
   "source": [
    "# Insert can be used to insert an item to any position within a list."
   ]
  },
  {
   "cell_type": "code",
   "execution_count": 13,
   "id": "f579a186",
   "metadata": {},
   "outputs": [
    {
     "name": "stdout",
     "output_type": "stream",
     "text": [
      "['John', 'Sally', 'Sam', 'Amber', 'Brenda', 'Julie', 'Amanda', 'Mason', 'Ralph', 'Bob']\n"
     ]
    }
   ],
   "source": [
    "names.insert(3, 'Amber')\n",
    "print(names)"
   ]
  },
  {
   "cell_type": "markdown",
   "id": "bd8b4f39",
   "metadata": {},
   "source": [
    "# Remove can be used to remove an item by value from a list."
   ]
  },
  {
   "cell_type": "code",
   "execution_count": 14,
   "id": "5eb612f9",
   "metadata": {},
   "outputs": [
    {
     "name": "stdout",
     "output_type": "stream",
     "text": [
      "['John', 'Sally', 'Sam', 'Amber', 'Julie', 'Amanda', 'Mason', 'Ralph', 'Bob']\n"
     ]
    }
   ],
   "source": [
    "names.remove('Brenda')\n",
    "print(names)"
   ]
  },
  {
   "cell_type": "markdown",
   "id": "500e69a0",
   "metadata": {},
   "source": [
    "# Count can be used to find the number times an item occurs in a list."
   ]
  },
  {
   "cell_type": "code",
   "execution_count": 15,
   "id": "d183f434",
   "metadata": {},
   "outputs": [
    {
     "data": {
      "text/plain": [
       "1"
      ]
     },
     "execution_count": 15,
     "metadata": {},
     "output_type": "execute_result"
    }
   ],
   "source": [
    "names.count('Amanda')"
   ]
  },
  {
   "cell_type": "markdown",
   "id": "66ee5982",
   "metadata": {},
   "source": [
    "# Index can be used to find the position of a item in a list. "
   ]
  },
  {
   "cell_type": "code",
   "execution_count": 16,
   "id": "1706aabe",
   "metadata": {},
   "outputs": [
    {
     "data": {
      "text/plain": [
       "4"
      ]
     },
     "execution_count": 16,
     "metadata": {},
     "output_type": "execute_result"
    }
   ],
   "source": [
    "names.index('Julie')"
   ]
  },
  {
   "cell_type": "markdown",
   "id": "abae41d4",
   "metadata": {},
   "source": [
    "# Pop can be used to remove an item from a list, but it lets you work with that item after removing it."
   ]
  },
  {
   "cell_type": "code",
   "execution_count": 17,
   "id": "5587dbfc",
   "metadata": {},
   "outputs": [
    {
     "name": "stdout",
     "output_type": "stream",
     "text": [
      "['John', 'Sally', 'Sam', 'Julie', 'Amanda', 'Mason', 'Ralph', 'Bob']\n"
     ]
    }
   ],
   "source": [
    "names.pop(3)\n",
    "print(names)"
   ]
  },
  {
   "cell_type": "markdown",
   "id": "72761640",
   "metadata": {},
   "source": [
    "# The sorted function can be used to display a list in a particular order but does not permantely change the list order."
   ]
  },
  {
   "cell_type": "code",
   "execution_count": 19,
   "id": "5137ec03",
   "metadata": {},
   "outputs": [
    {
     "name": "stdout",
     "output_type": "stream",
     "text": [
      "['Amanda', 'Bob', 'John', 'Julie', 'Mason', 'Ralph', 'Sally', 'Sam']\n"
     ]
    }
   ],
   "source": [
    "print(sorted(names))"
   ]
  },
  {
   "cell_type": "markdown",
   "id": "53c4666b",
   "metadata": {},
   "source": [
    "# The copy function can be used to change parts of a list to a new one."
   ]
  },
  {
   "cell_type": "code",
   "execution_count": 31,
   "id": "a1276b29",
   "metadata": {},
   "outputs": [
    {
     "name": "stdout",
     "output_type": "stream",
     "text": [
      "My friends names are:\n",
      "['Amanda', 'Bob', 'John', 'Julie', 'Mason', 'Ralph', 'Sally', 'Sam']\n",
      "\n",
      "My best friends names are:\n",
      "['Bob', 'John', 'Julie', 'Mason', 'Ralph']\n"
     ]
    }
   ],
   "source": [
    "Best_friends_names = names[1:6]\n",
    "print(\"My friends names are:\")\n",
    "print(names)\n",
    "\n",
    "print(\"\\nMy best friends names are:\")\n",
    "print(Best_friends_names)\n",
    "\n"
   ]
  },
  {
   "cell_type": "markdown",
   "id": "04889d8b",
   "metadata": {},
   "source": [
    "# The clear function removes all elemets from a list. "
   ]
  },
  {
   "cell_type": "code",
   "execution_count": 36,
   "id": "1125440c",
   "metadata": {},
   "outputs": [
    {
     "name": "stdout",
     "output_type": "stream",
     "text": [
      "list after clear():\n"
     ]
    }
   ],
   "source": [
    "names.clear\n",
    "print('list after clear():')"
   ]
  },
  {
   "cell_type": "markdown",
   "id": "60627ef9",
   "metadata": {},
   "source": [
    "# Lists are used to create ordered ordered collections that can be accessed and changed."
   ]
  },
  {
   "cell_type": "code",
   "execution_count": 49,
   "id": "4302876f",
   "metadata": {},
   "outputs": [
    {
     "name": "stdout",
     "output_type": "stream",
     "text": [
      "[5, 15, 25, 30, 63, 58]\n"
     ]
    }
   ],
   "source": [
    "sales_numbers = [5, 15, 25, 30, 63, 58]\n",
    "print(sales_numbers)"
   ]
  },
  {
   "cell_type": "markdown",
   "id": "ceead88a",
   "metadata": {},
   "source": [
    "# The len function can be used to find the length of a list."
   ]
  },
  {
   "cell_type": "code",
   "execution_count": 50,
   "id": "a38671b6",
   "metadata": {},
   "outputs": [
    {
     "data": {
      "text/plain": [
       "6"
      ]
     },
     "execution_count": 50,
     "metadata": {},
     "output_type": "execute_result"
    }
   ],
   "source": [
    "len(sales_numbers)"
   ]
  },
  {
   "cell_type": "markdown",
   "id": "b227f9f9",
   "metadata": {},
   "source": [
    "# The max fucntion will retun the item with the highest value from the list."
   ]
  },
  {
   "cell_type": "code",
   "execution_count": 51,
   "id": "d341cd17",
   "metadata": {},
   "outputs": [
    {
     "name": "stdout",
     "output_type": "stream",
     "text": [
      "63\n"
     ]
    }
   ],
   "source": [
    "print(max(sales_numbers))"
   ]
  },
  {
   "cell_type": "markdown",
   "id": "a28cd702",
   "metadata": {},
   "source": [
    "# The min function will return the item with the lowest value from the list."
   ]
  },
  {
   "cell_type": "code",
   "execution_count": 52,
   "id": "ab73712c",
   "metadata": {},
   "outputs": [
    {
     "name": "stdout",
     "output_type": "stream",
     "text": [
      "5\n"
     ]
    }
   ],
   "source": [
    "print(min(sales_numbers))"
   ]
  }
 ],
 "metadata": {
  "kernelspec": {
   "display_name": "Python 3 (ipykernel)",
   "language": "python",
   "name": "python3"
  },
  "language_info": {
   "codemirror_mode": {
    "name": "ipython",
    "version": 3
   },
   "file_extension": ".py",
   "mimetype": "text/x-python",
   "name": "python",
   "nbconvert_exporter": "python",
   "pygments_lexer": "ipython3",
   "version": "3.9.13"
  }
 },
 "nbformat": 4,
 "nbformat_minor": 5
}
